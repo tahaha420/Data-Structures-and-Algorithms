{
 "cells": [
  {
   "cell_type": "markdown",
   "id": "c7048a03",
   "metadata": {},
   "source": [
    "# Task 1"
   ]
  },
  {
   "cell_type": "code",
   "execution_count": 6,
   "id": "654d6e3f",
   "metadata": {},
   "outputs": [],
   "source": [
    "%run set1.py"
   ]
  },
  {
   "cell_type": "code",
   "execution_count": 7,
   "id": "0af63706",
   "metadata": {},
   "outputs": [
    {
     "data": {
      "text/plain": [
       "'{0, 1, 2}'"
      ]
     },
     "execution_count": 7,
     "metadata": {},
     "output_type": "execute_result"
    }
   ],
   "source": [
    "s1 = Set()\n",
    "s1.add(0)\n",
    "s1.add(1)\n",
    "s1.add(2)\n",
    "s1.display()"
   ]
  },
  {
   "cell_type": "code",
   "execution_count": 9,
   "id": "dcb9e6f9",
   "metadata": {},
   "outputs": [
    {
     "data": {
      "text/plain": [
       "'{0, 1, 3}'"
      ]
     },
     "execution_count": 9,
     "metadata": {},
     "output_type": "execute_result"
    }
   ],
   "source": [
    "s2 = Set()\n",
    "s2.add(0)\n",
    "s2.add(1)\n",
    "s2.add(3)\n",
    "s2.display()"
   ]
  },
  {
   "cell_type": "code",
   "execution_count": 10,
   "id": "44c2c8eb",
   "metadata": {},
   "outputs": [
    {
     "data": {
      "text/plain": [
       "{0, 1, 2}"
      ]
     },
     "execution_count": 10,
     "metadata": {},
     "output_type": "execute_result"
    }
   ],
   "source": [
    "s1.intersection(s2)"
   ]
  },
  {
   "cell_type": "code",
   "execution_count": 11,
   "id": "cc60ed34",
   "metadata": {},
   "outputs": [
    {
     "data": {
      "text/plain": [
       "{2}"
      ]
     },
     "execution_count": 11,
     "metadata": {},
     "output_type": "execute_result"
    }
   ],
   "source": [
    "s1.difference(s2)"
   ]
  },
  {
   "cell_type": "markdown",
   "id": "bae4aec3",
   "metadata": {},
   "source": [
    "# Task 2"
   ]
  },
  {
   "cell_type": "code",
   "execution_count": 21,
   "id": "f5eb5fbe",
   "metadata": {},
   "outputs": [
    {
     "data": {
      "text/plain": [
       "'{1, 2, 3}'"
      ]
     },
     "execution_count": 21,
     "metadata": {},
     "output_type": "execute_result"
    }
   ],
   "source": [
    "v=[1,2,3]\n",
    "s=Set(v)\n",
    "s.display()"
   ]
  },
  {
   "cell_type": "markdown",
   "id": "834ae752",
   "metadata": {},
   "source": [
    "# Task 3"
   ]
  },
  {
   "cell_type": "code",
   "execution_count": 14,
   "id": "ad8fe758",
   "metadata": {},
   "outputs": [
    {
     "data": {
      "text/plain": [
       "False"
      ]
     },
     "execution_count": 14,
     "metadata": {},
     "output_type": "execute_result"
    }
   ],
   "source": [
    "s4=Set()\n",
    "s4.add(1)\n",
    "s4.add(2)\n",
    "s4.add(3)\n",
    "s4.add(4)\n",
    "\n",
    "s3=Set()\n",
    "s3.add(1)\n",
    "s3.add(2)\n",
    "s3.add(3)\n",
    "\n",
    "s3.display()\n",
    "s4.display()\n",
    "\n",
    "s4.isSubSet(s3)"
   ]
  },
  {
   "cell_type": "code",
   "execution_count": 16,
   "id": "7f0b305c",
   "metadata": {},
   "outputs": [
    {
     "data": {
      "text/plain": [
       "True"
      ]
     },
     "execution_count": 16,
     "metadata": {},
     "output_type": "execute_result"
    }
   ],
   "source": [
    "x=Set()\n",
    "x.add(\"faraz\")\n",
    "x.add(\"taha\")\n",
    "x.add(\"khizr\")\n",
    "\n",
    "y=Set()\n",
    "y.add(\"rana\")\n",
    "y.add(\"faraz\")\n",
    "y.add(\"khizr\")\n",
    "y.add(\"taha\")\n",
    "y.display()\n",
    "x.display()\n",
    "\n",
    "x.isSubSet(y)"
   ]
  },
  {
   "cell_type": "markdown",
   "id": "d787536b",
   "metadata": {},
   "source": [
    "# Task 4"
   ]
  },
  {
   "cell_type": "code",
   "execution_count": 17,
   "id": "763247fe",
   "metadata": {},
   "outputs": [
    {
     "data": {
      "text/plain": [
       "'{0, 1, 2}'"
      ]
     },
     "execution_count": 17,
     "metadata": {},
     "output_type": "execute_result"
    }
   ],
   "source": [
    "s1.display()"
   ]
  }
 ],
 "metadata": {
  "kernelspec": {
   "display_name": "Python 3 (ipykernel)",
   "language": "python",
   "name": "python3"
  },
  "language_info": {
   "codemirror_mode": {
    "name": "ipython",
    "version": 3
   },
   "file_extension": ".py",
   "mimetype": "text/x-python",
   "name": "python",
   "nbconvert_exporter": "python",
   "pygments_lexer": "ipython3",
   "version": "3.10.0"
  }
 },
 "nbformat": 4,
 "nbformat_minor": 5
}
