{
 "cells": [
  {
   "cell_type": "markdown",
   "id": "2539888a",
   "metadata": {},
   "source": [
    "# Algorithms"
   ]
  },
  {
   "cell_type": "markdown",
   "id": "54f520b4",
   "metadata": {},
   "source": [
    "## Binary Search"
   ]
  },
  {
   "cell_type": "code",
   "execution_count": 55,
   "id": "c81e88de",
   "metadata": {},
   "outputs": [],
   "source": [
    "def binarySearch ( lst , target ) :\n",
    "    low = 0\n",
    "    high = len( lst ) - 1\n",
    "    while low <= high :\n",
    "        mid = ( high + low ) // 2\n",
    "        if lst [ mid ] == target :\n",
    "            return True\n",
    "        elif lst[mid]<target :\n",
    "            low = mid + 1\n",
    "        else :\n",
    "            high = mid - 1\n",
    "    return False"
   ]
  },
  {
   "cell_type": "code",
   "execution_count": 64,
   "id": "5b3313d2",
   "metadata": {},
   "outputs": [
    {
     "data": {
      "text/plain": [
       "True"
      ]
     },
     "execution_count": 64,
     "metadata": {},
     "output_type": "execute_result"
    }
   ],
   "source": [
    "lst=[2,5,7,9,10,12,15]\n",
    "binarySearch(lst,12)"
   ]
  },
  {
   "cell_type": "markdown",
   "id": "2ca12e43",
   "metadata": {},
   "source": [
    "## Linear Search (unsorted)"
   ]
  },
  {
   "cell_type": "code",
   "execution_count": 75,
   "id": "2895bf40",
   "metadata": {},
   "outputs": [
    {
     "data": {
      "text/plain": [
       "True"
      ]
     },
     "execution_count": 75,
     "metadata": {},
     "output_type": "execute_result"
    }
   ],
   "source": [
    "def linearSearch(lst,target):\n",
    "    flag=False\n",
    "    for item in lst:\n",
    "        if item==target:\n",
    "            flag= True\n",
    "    return flag        \n",
    "\n",
    "linearSearch(lst,15)"
   ]
  },
  {
   "cell_type": "markdown",
   "id": "db339f61",
   "metadata": {},
   "source": [
    "## Linear Search (Sorted)"
   ]
  },
  {
   "cell_type": "code",
   "execution_count": 80,
   "id": "4f664baf",
   "metadata": {},
   "outputs": [
    {
     "data": {
      "text/plain": [
       "True"
      ]
     },
     "execution_count": 80,
     "metadata": {},
     "output_type": "execute_result"
    }
   ],
   "source": [
    "def sortedSL(lst,target):\n",
    "    flag=False\n",
    "    for item in lst:\n",
    "        if item==target:\n",
    "            flag= True\n",
    "        elif item> target:\n",
    "            flag= False\n",
    "    return flag\n",
    "sortedSL(lst,15)"
   ]
  },
  {
   "cell_type": "markdown",
   "id": "5b17bbdd",
   "metadata": {},
   "source": [
    "## Bubble Sort"
   ]
  },
  {
   "cell_type": "code",
   "execution_count": 86,
   "id": "940ca654",
   "metadata": {},
   "outputs": [
    {
     "data": {
      "text/plain": [
       "[1, 2, 5, 6, 25, 54]"
      ]
     },
     "execution_count": 86,
     "metadata": {},
     "output_type": "execute_result"
    }
   ],
   "source": [
    "def bubbleSort(lst):\n",
    "    for i in range(len(lst)):\n",
    "        for j in range(len(lst)-1):\n",
    "            if lst[j]>lst[j+1]:\n",
    "                lst[j],lst[j+1]=lst[j+1],lst[j]\n",
    "    return lst\n",
    "\n",
    "a=[25,54,1,2,6,5]\n",
    "bubbleSort(a)"
   ]
  },
  {
   "cell_type": "markdown",
   "id": "12c2a69b",
   "metadata": {},
   "source": [
    "## Selection Sort"
   ]
  },
  {
   "cell_type": "code",
   "execution_count": 139,
   "id": "5759a1a0",
   "metadata": {},
   "outputs": [
    {
     "data": {
      "text/plain": [
       "[2, 5, 8, 9, 10, 11]"
      ]
     },
     "execution_count": 139,
     "metadata": {},
     "output_type": "execute_result"
    }
   ],
   "source": [
    "def selectionSort(lst):\n",
    "    for i in range(len(lst)):\n",
    "        small = i\n",
    "        for j in range(i+1,len(lst)):\n",
    "            if lst[j]<lst[small]:\n",
    "                small = j\n",
    "        if small != i:\n",
    "            lst[i],lst[small]=lst[small],lst[i]\n",
    "    return lst\n",
    "\n",
    "b=[5,8,10,2,9,11]\n",
    "selectionSort(b)"
   ]
  },
  {
   "cell_type": "markdown",
   "id": "dca7e71c",
   "metadata": {},
   "source": [
    "## Insertion"
   ]
  },
  {
   "cell_type": "code",
   "execution_count": 173,
   "id": "4c363f0b",
   "metadata": {},
   "outputs": [],
   "source": [
    "def insertionSort(lst):\n",
    "    for i in range(len(lst)):\n",
    "        j=i\n",
    "        while j>0 and lst[j-1]>lst[j]:\n",
    "            lst[j],lst[j-1]=lst[j-1],lst[j]\n",
    "            j=j-1\n",
    "    return lst            "
   ]
  },
  {
   "cell_type": "code",
   "execution_count": 176,
   "id": "6dfb8d57",
   "metadata": {},
   "outputs": [
    {
     "data": {
      "text/plain": [
       "[1, 2, 3, 4, 5, 6, 7, 8, 9, 10]"
      ]
     },
     "execution_count": 176,
     "metadata": {},
     "output_type": "execute_result"
    }
   ],
   "source": [
    "c=[10,9,8,7,6,5,4,3,2,1]\n",
    "insertionSort(c)"
   ]
  },
  {
   "cell_type": "markdown",
   "id": "100e767c",
   "metadata": {},
   "source": [
    "## Merge Sort"
   ]
  },
  {
   "cell_type": "code",
   "execution_count": null,
   "id": "53f1213e",
   "metadata": {},
   "outputs": [],
   "source": [
    "def mergeSort(lst):\n",
    "    if(n==1):\n",
    "    return a\n",
    "\n",
    "    arrayOne = a0]... an/2]\n",
    "    arrayTwo = aln/2+1}... an]\n",
    "\n",
    "    arrayOne = mergesort ( arrayOne )\n",
    "    arrayTwo = mergesort ( arrayTwo )\n",
    "\n",
    "    return merge ( arrayOne, arrayTwo )\n"
   ]
  },
  {
   "cell_type": "code",
   "execution_count": 178,
   "id": "63055b5c",
   "metadata": {},
   "outputs": [
    {
     "name": "stdout",
     "output_type": "stream",
     "text": [
      "Given array is\n",
      "12 11 13 5 6 7 \n",
      "\n",
      "Sorted array is\n",
      "5 6 7 11 12 13 "
     ]
    }
   ],
   "source": [
    "def merge(c, l, m, r):\n",
    "\tn1 = m - l + 1\n",
    "\tn2 = r - m\n",
    "\n",
    "\t# create temp arrays\n",
    "\tL = [0] * (n1)\n",
    "\tR = [0] * (n2)\n",
    "\n",
    "\t# Copy data to temp arrays L[] and R[]\n",
    "\tfor i in range(0, n1):\n",
    "\t\tL[i] = arr[l + i]\n",
    "\n",
    "\tfor j in range(0, n2):\n",
    "\t\tR[j] = arr[m + 1 + j]\n",
    "\n",
    "\t# Merge the temp arrays back into arr[l..r]\n",
    "\ti = 0\t # Initial index of first subarray\n",
    "\tj = 0\t # Initial index of second subarray\n",
    "\tk = l\t # Initial index of merged subarray\n",
    "\n",
    "\twhile i < n1 and j < n2:\n",
    "\t\tif L[i] <= R[j]:\n",
    "\t\t\tarr[k] = L[i]\n",
    "\t\t\ti += 1\n",
    "\t\telse:\n",
    "\t\t\tarr[k] = R[j]\n",
    "\t\t\tj += 1\n",
    "\t\tk += 1\n",
    "\n",
    "\t# Copy the remaining elements of L[], if there\n",
    "\t# are any\n",
    "\twhile i < n1:\n",
    "\t\tarr[k] = L[i]\n",
    "\t\ti += 1\n",
    "\t\tk += 1\n",
    "\n",
    "\t# Copy the remaining elements of R[], if there\n",
    "\t# are any\n",
    "\twhile j < n2:\n",
    "\t\tarr[k] = R[j]\n",
    "\t\tj += 1\n",
    "\t\tk += 1\n",
    "\n",
    "# l is for left index and r is right index of the\n",
    "# sub-array of arr to be sorted\n",
    "\n",
    "\n",
    "def mergeSort(arr, l, r):\n",
    "\tif l < r:\n",
    "\n",
    "\t\t# Same as (l+r)//2, but avoids overflow for\n",
    "\t\t# large l and h\n",
    "\t\tm = l+(r-l)//2\n",
    "\n",
    "\t\t# Sort first and second halves\n",
    "\t\tmergeSort(arr, l, m)\n",
    "\t\tmergeSort(arr, m+1, r)\n",
    "\t\tmerge(arr, l, m, r)\n",
    "\n",
    "\n",
    "# Driver code to test above\n",
    "arr = [12, 11, 13, 5, 6, 7]\n",
    "n = len(arr)\n",
    "print(\"Given array is\")\n",
    "for i in range(n):\n",
    "\tprint(\"%d\" % arr[i],end=\" \")\n",
    "\n",
    "mergeSort(arr, 0, n-1)\n",
    "print(\"\\n\\nSorted array is\")\n",
    "for i in range(n):\n",
    "\tprint(\"%d\" % arr[i],end=\" \")\n",
    "\n",
    "# This code is contributed by Mohit Kumra\n"
   ]
  }
 ],
 "metadata": {
  "kernelspec": {
   "display_name": "Python 3 (ipykernel)",
   "language": "python",
   "name": "python3"
  },
  "language_info": {
   "codemirror_mode": {
    "name": "ipython",
    "version": 3
   },
   "file_extension": ".py",
   "mimetype": "text/x-python",
   "name": "python",
   "nbconvert_exporter": "python",
   "pygments_lexer": "ipython3",
   "version": "3.10.0"
  }
 },
 "nbformat": 4,
 "nbformat_minor": 5
}
