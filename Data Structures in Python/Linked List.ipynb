{
 "cells": [
  {
   "cell_type": "code",
   "execution_count": 3,
   "id": "b74585de",
   "metadata": {},
   "outputs": [],
   "source": [
    "class ListNode :\n",
    "    def __init__ ( self , data ) :\n",
    "        self.data = data\n",
    "        self.next = None\n",
    "    \n",
    "    def traversal ( head ) :\n",
    "        curNode = head\n",
    "        while curNode is not None :\n",
    "            print (curNode.data)\n",
    "            curNode = curNode.next\n",
    "\n",
    "    def unorderedSearch ( head , target ) :\n",
    "        curNode = head\n",
    "        while curNode is not None and curNode.data != target :\n",
    "            curNode = curNode.next\n",
    "        return curNode is not None\n",
    "\n",
    "    def add(head,item):\n",
    "        newNode = ListNode ( item )\n",
    "        newNode.next = head\n",
    "        head = newNode\n",
    "\n",
    "    def remove(head,target):   \n",
    "        # Given the head reference , remove a target from a linked list .\n",
    "        predNode = None\n",
    "        curNode = head\n",
    "        while curNode is not None and curNode . data != target :\n",
    "            predNode = curNode\n",
    "            curNode = curNode.next\n",
    "        if curNode is not None :\n",
    "            if curNode is head :\n",
    "                head = curNode.next\n",
    "            else :\n",
    "                predNode.next = curNode.next"
   ]
  },
  {
   "cell_type": "code",
   "execution_count": 6,
   "id": "d2e8c1e2",
   "metadata": {},
   "outputs": [
    {
     "name": "stdout",
     "output_type": "stream",
     "text": [
      "5\n",
      "6\n",
      "7\n"
     ]
    }
   ],
   "source": [
    "a.add(4)\n",
    "a.traversal()"
   ]
  },
  {
   "cell_type": "code",
   "execution_count": 21,
   "id": "5bc0e897",
   "metadata": {},
   "outputs": [],
   "source": [
    "a= ListNode(5)\n",
    "b= ListNode(6)\n",
    "c= ListNode(7)\n",
    "\n",
    "a.next=b\n",
    "b.next=c\n",
    "c.next=None"
   ]
  },
  {
   "cell_type": "code",
   "execution_count": 23,
   "id": "bdc3c0a2",
   "metadata": {},
   "outputs": [],
   "source": [
    "e=ListNode(8)\n",
    "f=ListNode(9)\n",
    "g=ListNode(10)\n",
    "e.next=f\n",
    "f.next=g\n",
    "g.next=None"
   ]
  },
  {
   "cell_type": "code",
   "execution_count": 22,
   "id": "dc55ff0d",
   "metadata": {},
   "outputs": [],
   "source": [
    "c.next=e"
   ]
  },
  {
   "cell_type": "code",
   "execution_count": 7,
   "id": "10db0534",
   "metadata": {},
   "outputs": [
    {
     "name": "stdout",
     "output_type": "stream",
     "text": [
      "5\n",
      "6\n",
      "7\n"
     ]
    }
   ],
   "source": [
    "print(a.data)\n",
    "print(a.next.data)\n",
    "print(a.next.next.data)"
   ]
  },
  {
   "cell_type": "markdown",
   "id": "3022f58e",
   "metadata": {},
   "source": [
    "#### Prepending a node"
   ]
  },
  {
   "cell_type": "code",
   "execution_count": 8,
   "id": "08214062",
   "metadata": {},
   "outputs": [],
   "source": [
    "a.add(4)"
   ]
  },
  {
   "cell_type": "markdown",
   "id": "03ec7dbb",
   "metadata": {},
   "source": [
    "#### Better way to print all nodes"
   ]
  },
  {
   "cell_type": "code",
   "execution_count": 24,
   "id": "5836415a",
   "metadata": {
    "scrolled": false
   },
   "outputs": [
    {
     "name": "stdout",
     "output_type": "stream",
     "text": [
      "5\n",
      "6\n",
      "7\n",
      "8\n",
      "9\n",
      "10\n"
     ]
    }
   ],
   "source": [
    "a.traversal()"
   ]
  },
  {
   "cell_type": "code",
   "execution_count": 13,
   "id": "dfc64377",
   "metadata": {},
   "outputs": [],
   "source": [
    "a.remove(7)"
   ]
  },
  {
   "cell_type": "code",
   "execution_count": 14,
   "id": "73bc5245",
   "metadata": {},
   "outputs": [
    {
     "data": {
      "text/plain": [
       "False"
      ]
     },
     "execution_count": 14,
     "metadata": {},
     "output_type": "execute_result"
    }
   ],
   "source": [
    "a.unorderedSearch(7)"
   ]
  }
 ],
 "metadata": {
  "kernelspec": {
   "display_name": "Python 3 (ipykernel)",
   "language": "python",
   "name": "python3"
  },
  "language_info": {
   "codemirror_mode": {
    "name": "ipython",
    "version": 3
   },
   "file_extension": ".py",
   "mimetype": "text/x-python",
   "name": "python",
   "nbconvert_exporter": "python",
   "pygments_lexer": "ipython3",
   "version": "3.10.0"
  }
 },
 "nbformat": 4,
 "nbformat_minor": 5
}
