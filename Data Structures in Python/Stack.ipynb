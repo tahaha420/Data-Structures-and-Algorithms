{
 "cells": [
  {
   "cell_type": "code",
   "execution_count": 3,
   "id": "3372a385",
   "metadata": {},
   "outputs": [],
   "source": [
    "class Stack:\n",
    "    def __init__(self):\n",
    "        self._theItems=list()\n",
    "        \n",
    "    def isEmpty(self):\n",
    "        return len(self)==0\n",
    "    \n",
    "    def __len__(self):\n",
    "        return len(self._theItems)\n",
    "    \n",
    "    def peek(self):\n",
    "        assert not self.isEmpty(),\"Cannot peak at empty stack\"\n",
    "        return self._theItems[-1]\n",
    "    \n",
    "    def pop(self):\n",
    "        assert not self.isEmpty(),\"Items cannot be popped from an empty stack\" \n",
    "        return self._theItems.pop()\n",
    "    \n",
    "    def push( self, item ):\n",
    "        self._theItems.append( item )\n",
    "        "
   ]
  },
  {
   "cell_type": "code",
   "execution_count": 99,
   "id": "648eca81",
   "metadata": {},
   "outputs": [],
   "source": [
    "a=stack()\n",
    "a.push(2)\n",
    "a.push(3)\n",
    "a.push(4)"
   ]
  },
  {
   "cell_type": "code",
   "execution_count": 13,
   "id": "ef39fe32",
   "metadata": {},
   "outputs": [
    {
     "data": {
      "text/plain": [
       "3"
      ]
     },
     "execution_count": 13,
     "metadata": {},
     "output_type": "execute_result"
    }
   ],
   "source": [
    "a.peek()"
   ]
  },
  {
   "cell_type": "markdown",
   "id": "7a51d737",
   "metadata": {},
   "source": [
    "### Stack using LinkedList"
   ]
  },
  {
   "cell_type": "code",
   "execution_count": 101,
   "id": "186f3903",
   "metadata": {},
   "outputs": [],
   "source": [
    "class stackL :\n",
    "# Creates an empty stack.\n",
    "    def __init__( self ):\n",
    "        self._top = None\n",
    "        self._size = 0\n",
    "\n",
    "    # Returns True if the stack is empty or False otherwise.\n",
    "    def isEmpty( self ):\n",
    "        return self._top is None\n",
    "\n",
    "    # Returns the number of items in the stack.\n",
    "    def __len__( self ):\n",
    "        return self._size\n",
    "\n",
    "    # Returns the top item on the stack without removing it.\n",
    "    def peek( self ):\n",
    "        assert not self.isEmpty(), \"Cannot peek at an empty stack\"\n",
    "        return self._top.item\n",
    "\n",
    "    # Removes and returns the top item on the stack.\n",
    "    def pop( self ):\n",
    "        assert not self.isEmpty(), \"Cannot pop from an empty stack\"\n",
    "        node = self._top\n",
    "        self.top = self._top.next\n",
    "        self._size -= 1\n",
    "        return node.item\n",
    "    # Pushes an item onto the top of the stack.\n",
    "    def push( self, item ) :\n",
    "        self._top = _StackNode( item, self._top )\n",
    "        self._size += 1\n",
    "\n",
    "# The private storage class for creating stack nodes.\n",
    "class _StackNode :\n",
    "    def __init__( self, item, link ) :\n",
    "        self.item = item\n",
    "        self.next = link"
   ]
  },
  {
   "cell_type": "code",
   "execution_count": 102,
   "id": "2d600a39",
   "metadata": {},
   "outputs": [],
   "source": [
    "b=stackL()\n",
    "b.push(2)\n",
    "b.push(3)\n",
    "b.push(4)"
   ]
  },
  {
   "cell_type": "code",
   "execution_count": 103,
   "id": "46fb36dc",
   "metadata": {},
   "outputs": [
    {
     "data": {
      "text/plain": [
       "4"
      ]
     },
     "execution_count": 103,
     "metadata": {},
     "output_type": "execute_result"
    }
   ],
   "source": [
    "b.pop()"
   ]
  },
  {
   "cell_type": "code",
   "execution_count": 60,
   "id": "436e9230",
   "metadata": {},
   "outputs": [],
   "source": [
    "def checkDelims(line):\n",
    "    s=Stack()\n",
    "    for token in line :\n",
    "        if token in \"{[(\" :\n",
    "            s.push( token )\n",
    "        elif token in \"}])\" :\n",
    "            if s.isEmpty() :\n",
    "                return False\n",
    "            else :\n",
    "                left = s.pop()\n",
    "            if (token == \"}\" and left != \"{\") or (token == \"]\" and left != \"[\") or (token == \")\" and left != \"(\") :\n",
    "                return False"
   ]
  },
  {
   "cell_type": "code",
   "execution_count": 71,
   "id": "71d0f013",
   "metadata": {},
   "outputs": [
    {
     "data": {
      "text/plain": [
       "False"
      ]
     },
     "execution_count": 71,
     "metadata": {},
     "output_type": "execute_result"
    }
   ],
   "source": [
    "checkDelims(\"int sumList( int values[], int size )\")"
   ]
  },
  {
   "cell_type": "markdown",
   "id": "61c7409b",
   "metadata": {},
   "source": [
    "# Infix to Postfix Algorithm"
   ]
  },
  {
   "cell_type": "code",
   "execution_count": 5,
   "id": "6a7c882d",
   "metadata": {},
   "outputs": [
    {
     "data": {
      "text/plain": [
       "'A B + C D E - * -'"
      ]
     },
     "execution_count": 5,
     "metadata": {},
     "output_type": "execute_result"
    }
   ],
   "source": [
    "def infixToPostfix(infixexpr):\n",
    "\n",
    "    prec={}\n",
    "\n",
    "    prec[\"*\"] = 3\n",
    "\n",
    "    prec[\"/\"] = 3\n",
    "\n",
    "    prec[\"+\"] = 2\n",
    "\n",
    "    prec[\"-\"] = 2\n",
    "\n",
    "    prec[\"(\"] =1\n",
    "\n",
    "    opStack = Stack() \n",
    "\n",
    "    postfixList = []\n",
    "\n",
    "    tokenList=infixexpr.split() \n",
    "    \n",
    "    for token in tokenList:\n",
    "\n",
    "        if token in \"ABCDEFGHIJKLMNOPQRSTUVWXYZ\" or token in \"0123456789\":\n",
    "\n",
    "            postfixList.append(token)\n",
    "        elif token == \"(\":\n",
    "            opStack.push(token)\n",
    "\n",
    "        elif token == \")\":\n",
    "            topToken=opStack.pop()\n",
    "\n",
    "            while topToken != '(':\n",
    "                postfixList.append(topToken)\n",
    "                topToken = opStack.pop()\n",
    "\n",
    "        else:\n",
    "            while (not opStack.isEmpty()) and (prec[opStack.peek()] >= prec[token]):\n",
    "                postfixList.append(opStack.pop())\n",
    "            opStack.push(token)\n",
    "\n",
    "    while not opStack.isEmpty():\n",
    "        postfixList.append(opStack.pop())\n",
    "    return \" \".join(postfixList)\n",
    "\n",
    "infixToPostfix(\"A + B - C * ( D - E )\")"
   ]
  },
  {
   "cell_type": "code",
   "execution_count": 12,
   "id": "4d728b7b",
   "metadata": {},
   "outputs": [
    {
     "data": {
      "text/plain": [
       "'A B + C D E - * -'"
      ]
     },
     "execution_count": 12,
     "metadata": {},
     "output_type": "execute_result"
    }
   ],
   "source": [
    "def infixToPostfix(infixexpr):\n",
    "    prec = {}\n",
    "    prec[\"*\"] = 3\n",
    "    prec[\"/\"] = 3\n",
    "    prec[\"+\"] = 2\n",
    "    prec[\"-\"] = 2\n",
    "    prec[\"(\"] = 1\n",
    "    opStack = Stack()\n",
    "    postfixList = []\n",
    "    tokenList = infixexpr.split()\n",
    "    for token in tokenList:\n",
    "        if token in \"ABCDEFGHIJKLMNOPQRSTUVWXYZ\" or token in \"0123456789\":\n",
    "            postfixList.append(token)\n",
    "        elif token == '(':\n",
    "            opStack.push(token)\n",
    "        elif token == ')':\n",
    "            topToken = opStack.pop()\n",
    "            while topToken != '(':\n",
    "                postfixList.append(topToken)\n",
    "                topToken = opStack.pop()\n",
    "        else:\n",
    "            while (not opStack.isEmpty()) and (prec[opStack.peek()] >= prec[token]):\n",
    "                postfixList.append(opStack.pop())\n",
    "            opStack.push(token)\n",
    "\n",
    "    while not opStack.isEmpty():\n",
    "        postfixList.append(opStack.pop())\n",
    "    return \" \".join(postfixList)\n",
    "\n",
    "\n",
    "infixToPostfix(\"A + B - C  * ( D - E )\")"
   ]
  }
 ],
 "metadata": {
  "kernelspec": {
   "display_name": "Python 3 (ipykernel)",
   "language": "python",
   "name": "python3"
  },
  "language_info": {
   "codemirror_mode": {
    "name": "ipython",
    "version": 3
   },
   "file_extension": ".py",
   "mimetype": "text/x-python",
   "name": "python",
   "nbconvert_exporter": "python",
   "pygments_lexer": "ipython3",
   "version": "3.10.0"
  }
 },
 "nbformat": 4,
 "nbformat_minor": 5
}
