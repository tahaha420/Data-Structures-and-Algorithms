{
 "cells": [
  {
   "cell_type": "code",
   "execution_count": 1,
   "id": "d1545aac",
   "metadata": {},
   "outputs": [],
   "source": [
    "class Queue :\n",
    "    # Creates an empty queue.\n",
    "    def __init__( self ):\n",
    "        self._qList = list()\n",
    "\n",
    "        # Returns True if the queue is empty.\n",
    "    def isEmpty( self ):\n",
    "        return len( self ) == 0\n",
    "\n",
    "        # Returns the number of items in the queue.\n",
    "    def __len__( self ):\n",
    "        return len( self._qList )\n",
    "\n",
    "        # Adds the given item to the queue.\n",
    "    def enqueue( self, item ):\n",
    "        self._qList.append( item )\n",
    "\n",
    "        # Removes and returns the first item in the queue.\n",
    "    def dequeue( self ):\n",
    "        assert not self.isEmpty(), \"Cannot dequeue from an empty queue.\"\n",
    "        return self._qList.pop( 0 )"
   ]
  },
  {
   "cell_type": "code",
   "execution_count": 13,
   "id": "ca180596",
   "metadata": {
    "scrolled": true
   },
   "outputs": [],
   "source": [
    "q1=Queue()\n",
    "q1.enqueue(1)\n",
    "q1.enqueue(2)\n",
    "q1.enqueue(3)"
   ]
  },
  {
   "cell_type": "code",
   "execution_count": 14,
   "id": "f2d10e24",
   "metadata": {},
   "outputs": [
    {
     "data": {
      "text/plain": [
       "1"
      ]
     },
     "execution_count": 14,
     "metadata": {},
     "output_type": "execute_result"
    }
   ],
   "source": [
    "q1.dequeue()"
   ]
  },
  {
   "cell_type": "code",
   "execution_count": 15,
   "id": "be2fc9a5",
   "metadata": {},
   "outputs": [
    {
     "data": {
      "text/plain": [
       "2"
      ]
     },
     "execution_count": 15,
     "metadata": {},
     "output_type": "execute_result"
    }
   ],
   "source": [
    "q1.dequeue()"
   ]
  },
  {
   "cell_type": "markdown",
   "id": "5c71486c",
   "metadata": {},
   "source": [
    "### Queues using circular array"
   ]
  },
  {
   "cell_type": "code",
   "execution_count": 16,
   "id": "ebffee50",
   "metadata": {},
   "outputs": [],
   "source": [
    "from array1 import Array\n",
    "\n",
    "class Queue2 :\n",
    "    # Creates an empty queue.\n",
    "    def __init__( self, maxSize ) :\n",
    "        self._count = 0\n",
    "        self._front = 0\n",
    "        self._back = maxSize - 1\n",
    "        self._qArray = Array( maxSize )\n",
    "\n",
    "    # Returns True if the queue is empty.\n",
    "    def isEmpty( self ) :\n",
    "        return self._count == 0\n",
    "\n",
    "    # Returns True if the queue is full.\n",
    "    def isFull( self ) :\n",
    "        return self._count == len(self._qArray)\n",
    "\n",
    "        # Returns the number of items in the queue.\n",
    "    def __len__( self ) :\n",
    "        return self._count\n",
    "\n",
    "    # Adds the given item to the queue.\n",
    "    def enqueue( self, item ):\n",
    "        assert not self.isFull(), \"Cannot enqueue to a full queue.\"\n",
    "        maxSize = len(self._qArray)\n",
    "        self._back = (self._back + 1) % maxSize\n",
    "        self._qArray[self._back] = item\n",
    "        self._count += 1\n",
    "\n",
    "    # Removes and returns the first item in the queue.\n",
    "    def dequeue( self ):\n",
    "        assert not self.isEmpty(), \"Cannot dequeue from an empty queue.\"\n",
    "        item = self._qArray[ self._front ]\n",
    "        maxSize = len(self._qArray)\n",
    "        self._front = (self._front + 1) % maxSize\n",
    "        self._count -= 1\n",
    "        return item"
   ]
  },
  {
   "cell_type": "code",
   "execution_count": 18,
   "id": "e589cc70",
   "metadata": {},
   "outputs": [],
   "source": [
    "q2=Queue2(5)\n",
    "q2.enqueue(1)\n",
    "q2.enqueue(2)\n",
    "q2.enqueue(3)"
   ]
  },
  {
   "cell_type": "code",
   "execution_count": 19,
   "id": "32939cb2",
   "metadata": {},
   "outputs": [
    {
     "data": {
      "text/plain": [
       "1"
      ]
     },
     "execution_count": 19,
     "metadata": {},
     "output_type": "execute_result"
    }
   ],
   "source": [
    "q2.dequeue()"
   ]
  },
  {
   "cell_type": "code",
   "execution_count": 20,
   "id": "17461a5e",
   "metadata": {},
   "outputs": [
    {
     "data": {
      "text/plain": [
       "2"
      ]
     },
     "execution_count": 20,
     "metadata": {},
     "output_type": "execute_result"
    }
   ],
   "source": [
    "q2.dequeue()"
   ]
  },
  {
   "cell_type": "markdown",
   "id": "026a2969",
   "metadata": {},
   "source": [
    "### Queue using linked list "
   ]
  },
  {
   "cell_type": "code",
   "execution_count": 22,
   "id": "5ea53148",
   "metadata": {},
   "outputs": [],
   "source": [
    "class Queue3 :\n",
    "    # Creates an empty queue.\n",
    "    def __init__( self ):\n",
    "        self._qhead = None\n",
    "        self._qtail = None\n",
    "        self._count = 0\n",
    "\n",
    "    # Returns True if the queue is empty.\n",
    "    def isEmpty( self ):\n",
    "\t    return self._qhead is None\n",
    "\n",
    "    # Returns the number of items in the queue.\n",
    "    def __len__( self ):\n",
    "    \treturn self._count\n",
    "\n",
    "    # Adds the given item to the queue.\n",
    "    def enqueue( self, item ):\n",
    "        node = _QueueNode( item )\n",
    "        if self.isEmpty() :\n",
    "        \tself._qhead = node\n",
    "        else :\n",
    "        \tself._qtail.next = node\n",
    "\n",
    "        self._qtail = node\n",
    "        self._count += 1\n",
    "\n",
    "    # Removes and returns the first item in the queue.\n",
    "    def dequeue( self ):\n",
    "        assert not self.isEmpty(), \"Cannot dequeue from an empty queue.\"\n",
    "        node = self._qhead\n",
    "        if self._qhead is self._qtail :\n",
    "            self._qtail = None\n",
    "\n",
    "        self._qhead = self._qhead.next\n",
    "        self._count -= 1\n",
    "        return node.item\n",
    "\n",
    "    # Private storage class for creating the linked list nodes.\n",
    "class _QueueNode( object ):\n",
    "    def __init__( self, item ):\n",
    "        self.item = item\n",
    "        self.next = None"
   ]
  },
  {
   "cell_type": "code",
   "execution_count": 24,
   "id": "e8905c02",
   "metadata": {},
   "outputs": [],
   "source": [
    "q3=Queue3()\n",
    "q3.enqueue(1)\n",
    "q3.enqueue(2)\n",
    "q3.enqueue(3)"
   ]
  },
  {
   "cell_type": "code",
   "execution_count": 25,
   "id": "3959cacc",
   "metadata": {},
   "outputs": [
    {
     "data": {
      "text/plain": [
       "1"
      ]
     },
     "execution_count": 25,
     "metadata": {},
     "output_type": "execute_result"
    }
   ],
   "source": [
    "q3.dequeue()"
   ]
  },
  {
   "cell_type": "code",
   "execution_count": 26,
   "id": "596b7764",
   "metadata": {},
   "outputs": [
    {
     "data": {
      "text/plain": [
       "2"
      ]
     },
     "execution_count": 26,
     "metadata": {},
     "output_type": "execute_result"
    }
   ],
   "source": [
    "q3.dequeue()"
   ]
  },
  {
   "cell_type": "markdown",
   "id": "ebeb051b",
   "metadata": {},
   "source": [
    "### Priority Queue"
   ]
  },
  {
   "cell_type": "code",
   "execution_count": 108,
   "id": "0737456b",
   "metadata": {},
   "outputs": [],
   "source": [
    "class PriorityQueue :\n",
    " # Create an empty unbounded priority queue.\n",
    "    def __init__( self ):\n",
    "    \tself._qList = list()\n",
    "\n",
    "    # Returns True if the queue is empty.\n",
    "    def isEmpty( self ):\n",
    "        return len( self ) == 0\n",
    "\n",
    "    # Returns the number of items in the queue.\n",
    "    def __len__( self ):\n",
    "        return len( self._qList )\n",
    "\n",
    "    # Adds the given item to the queue.\n",
    "    def enqueue( self, item, priority ):\n",
    "        # Create a new instance of the storage class and append it to the list.\n",
    "        entry = _PriorityQEntry( item, priority )\n",
    "        self._qList.append( entry )\n",
    "\n",
    "    # Removes and returns the first item in the queue.\n",
    "    def dequeue( self ) :\n",
    "        assert not self.isEmpty(), \"Cannot dequeue from an empty queue.\"\n",
    "        max_val=0\n",
    "        for i in range( len(self) ) : \n",
    "            if self._qList[i].priority < self._qList[max_val].priority :\n",
    "                max_val=i\n",
    "\n",
    "        entry = self._qList.pop( max_val )\n",
    "        return entry.item\n",
    "\n",
    "    # Private storage class for associating queue items with their priority.\n",
    "class _PriorityQEntry( object ):\n",
    "    def __init__( self, item, priority ):\n",
    "        self.item = item\n",
    "        self.priority = priority\n",
    "\n",
    "pq=PriorityQueue()\n",
    "pq.enqueue(\"Red\",1)\n",
    "pq.enqueue(\"Green\",2)\n",
    "pq.enqueue(\"Blue\",3)\n"
   ]
  },
  {
   "cell_type": "code",
   "execution_count": 109,
   "id": "89c1a615",
   "metadata": {},
   "outputs": [
    {
     "data": {
      "text/plain": [
       "'Red'"
      ]
     },
     "execution_count": 109,
     "metadata": {},
     "output_type": "execute_result"
    }
   ],
   "source": [
    "pq.dequeue()"
   ]
  },
  {
   "cell_type": "code",
   "execution_count": 110,
   "id": "dc81a571",
   "metadata": {},
   "outputs": [
    {
     "data": {
      "text/plain": [
       "'Green'"
      ]
     },
     "execution_count": 110,
     "metadata": {},
     "output_type": "execute_result"
    }
   ],
   "source": [
    "pq.dequeue()"
   ]
  },
  {
   "cell_type": "code",
   "execution_count": 111,
   "id": "192a0d54",
   "metadata": {},
   "outputs": [
    {
     "data": {
      "text/plain": [
       "'Blue'"
      ]
     },
     "execution_count": 111,
     "metadata": {},
     "output_type": "execute_result"
    }
   ],
   "source": [
    "pq.dequeue()"
   ]
  },
  {
   "cell_type": "markdown",
   "id": "8bd9b763",
   "metadata": {},
   "source": [
    "### Bounded priority queue"
   ]
  },
  {
   "cell_type": "code",
   "execution_count": 95,
   "id": "09210246",
   "metadata": {},
   "outputs": [],
   "source": [
    "# Implementation of the bounded Priority Queue ADT using an array of\n",
    "# queues in which the queues are implemented using a linked list.\n",
    "from array1 import Array\n",
    "class BPriorityQueue :\n",
    "    # Creates an empty bounded priority queue.\n",
    "    def __init__( self, numLevels ):\n",
    "        self._qSize = numLevels-1\n",
    "        self._qLevels = Array( numLevels )\n",
    "        for i in range( numLevels ) :\n",
    "            self._qLevels[i] = Queue()\n",
    "\n",
    "    # Returns True if the queue is empty.\n",
    "    def isEmpty( self ):\n",
    "        return self._qSize == 0\n",
    "\n",
    "    # Returns the number of items in the queue.\n",
    "    def __len__( self ):\n",
    "        return len(self._qSize) \n",
    "\n",
    "    # Adds the given item to the queue.\n",
    "    def enqueue( self, item, priority ):\n",
    "        assert priority >= 0 and priority < len(self._qLevels), \\\n",
    "        \"Invalid priority level.\"\n",
    "        self._qLevels[priority].enqueue( item )\n",
    "\n",
    "    # Removes and returns the next item in the queue.\n",
    "    def dequeue( self ) :\n",
    "        # Make sure the queue is not empty.\n",
    "        assert not self.isEmpty(), \"Cannot dequeue from an empty queue.\"\n",
    "        # Find the first non-empty queue.\n",
    "        i = 0\n",
    "        p = len(self._qLevels)\n",
    "        while i < p and not self._qLevels[i].isEmpty() :\n",
    "            i += 1\n",
    "        # We know the queue is not empty, so dequeue from the ith queue.\n",
    "        return self._qLevels[i].dequeue()\n",
    "\n",
    "bp=BPriorityQueue(5)\n",
    "bp.enqueue(\"Red\",1)\n",
    "bp.enqueue(\"Green\",2)\n",
    "bp.enqueue(\"Blue\",3)"
   ]
  },
  {
   "cell_type": "code",
   "execution_count": 96,
   "id": "c40088f0",
   "metadata": {
    "scrolled": true
   },
   "outputs": [
    {
     "ename": "AssertionError",
     "evalue": "Cannot dequeue from an empty queue.",
     "output_type": "error",
     "traceback": [
      "\u001b[1;31m---------------------------------------------------------------------------\u001b[0m",
      "\u001b[1;31mAssertionError\u001b[0m                            Traceback (most recent call last)",
      "Cell \u001b[1;32mIn [96], line 1\u001b[0m\n\u001b[1;32m----> 1\u001b[0m \u001b[43mbp\u001b[49m\u001b[38;5;241;43m.\u001b[39;49m\u001b[43mdequeue\u001b[49m\u001b[43m(\u001b[49m\u001b[43m)\u001b[49m\n",
      "Cell \u001b[1;32mIn [95], line 36\u001b[0m, in \u001b[0;36mBPriorityQueue.dequeue\u001b[1;34m(self)\u001b[0m\n\u001b[0;32m     34\u001b[0m     i \u001b[38;5;241m+\u001b[39m\u001b[38;5;241m=\u001b[39m \u001b[38;5;241m1\u001b[39m\n\u001b[0;32m     35\u001b[0m \u001b[38;5;66;03m# We know the queue is not empty, so dequeue from the ith queue.\u001b[39;00m\n\u001b[1;32m---> 36\u001b[0m \u001b[38;5;28;01mreturn\u001b[39;00m \u001b[38;5;28;43mself\u001b[39;49m\u001b[38;5;241;43m.\u001b[39;49m\u001b[43m_qLevels\u001b[49m\u001b[43m[\u001b[49m\u001b[43mi\u001b[49m\u001b[43m]\u001b[49m\u001b[38;5;241;43m.\u001b[39;49m\u001b[43mdequeue\u001b[49m\u001b[43m(\u001b[49m\u001b[43m)\u001b[49m\n",
      "Cell \u001b[1;32mIn [1], line 20\u001b[0m, in \u001b[0;36mQueue.dequeue\u001b[1;34m(self)\u001b[0m\n\u001b[0;32m     19\u001b[0m \u001b[38;5;28;01mdef\u001b[39;00m \u001b[38;5;21mdequeue\u001b[39m( \u001b[38;5;28mself\u001b[39m ):\n\u001b[1;32m---> 20\u001b[0m     \u001b[38;5;28;01massert\u001b[39;00m \u001b[38;5;129;01mnot\u001b[39;00m \u001b[38;5;28mself\u001b[39m\u001b[38;5;241m.\u001b[39misEmpty(), \u001b[38;5;124m\"\u001b[39m\u001b[38;5;124mCannot dequeue from an empty queue.\u001b[39m\u001b[38;5;124m\"\u001b[39m\n\u001b[0;32m     21\u001b[0m     \u001b[38;5;28;01mreturn\u001b[39;00m \u001b[38;5;28mself\u001b[39m\u001b[38;5;241m.\u001b[39m_qList\u001b[38;5;241m.\u001b[39mpop( \u001b[38;5;241m0\u001b[39m )\n",
      "\u001b[1;31mAssertionError\u001b[0m: Cannot dequeue from an empty queue."
     ]
    }
   ],
   "source": [
    "bp.dequeue()"
   ]
  },
  {
   "cell_type": "markdown",
   "id": "f8805798",
   "metadata": {},
   "source": [
    "### Simulation"
   ]
  },
  {
   "cell_type": "code",
   "execution_count": 38,
   "id": "497a4cfa",
   "metadata": {},
   "outputs": [],
   "source": [
    "# Used to store and manage information related to an airline passenger.\n",
    "class Passenger :\n",
    "    # Creates a passenger object.\n",
    "    def __init__( self, idNum, arrivalTime ):\n",
    "        self._idNum = idNum\n",
    "        self._arrivalTime = arrivalTime\n",
    "\n",
    "    # Gets the passenger's id number.\n",
    "    def idNum( self ) :\n",
    "        return self._idNum\n",
    "\n",
    "    # Gets the passenger's arrival time.\n",
    "    def timeArrived( self ) :\n",
    "        return self._arrivalTime\n",
    "\n",
    "class TicketAgent :\n",
    "    # Creates a ticket agent object.\n",
    "    def __init__( self, idNum ):\n",
    "        self._idNum = idNum\n",
    "        self._passenger = None\n",
    "        self._stopTime = -1\n",
    "\n",
    "    # Gets the ticket agent's id number.\n",
    "    def idNum( self ):\n",
    "        return self._idNum\n",
    "\n",
    "    # Determines if the ticket agent is free to assist a passenger.\n",
    "    def isFree( self ):\n",
    "        return self._passenger is None\n",
    "\n",
    "    # Determines if the ticket agent has finished helping the passenger.\n",
    "    def isFinished( self, curTime ):\n",
    "        return self._passenger is not None and self._stopTime == curTime\n",
    "\n",
    "    # Indicates the ticket agent has begun assisting a passenger.\n",
    "    def startService( self, passenger, stopTime ):\n",
    "        self._passenger = passenger\n",
    "        self._stopTime = stopTime\n",
    "\n",
    "    # Indicates the ticket agent has finished helping the passenger.\n",
    "    def stopService( self ):\n",
    "        thePassenger = self._passenger\n",
    "        self._passenger = None\n",
    "        return thePassenger\n",
    "\n",
    "from array1 import Array\n",
    "\n",
    "class TicketCounterSimulation :\n",
    "    # Create a simulation object.\n",
    "    def __init__( self, numAgents, numMinutes, betweenTime, serviceTime ):\n",
    "        # Parameters supplied by the user.\n",
    "        self._arriveProb = 1.0 / betweenTime\n",
    "        self._serviceTime = serviceTime\n",
    "        self._numMinutes = numMinutes\n",
    "\n",
    "        # Simulation components.\n",
    "        self._passengerQ = Queue()\n",
    "        self._theAgents = Array( numAgents )\n",
    "        for i in range( numAgents ) :\n",
    "            self._theAgents[i] = TicketAgent(i+1)\n",
    "\n",
    "        # Computed during the simulation.\n",
    "        self._totalWaitTime = 0\n",
    "        self._numPassengers = 0\n",
    "\n",
    "    # Run the simulation using the parameters supplied earlier.\n",
    "    def run( self ):\n",
    "        for curTime in range(self._numMinutes + 1) :\n",
    "            self._handleArrival( curTime )\n",
    "            self._handleBeginService( curTime )\n",
    "            self._handleEndService( curTime )\n",
    "\n",
    "    # Print the simulation results.\n",
    "    def printResults( self ):\n",
    "        numServed = self._numPassengers - len(self._passengerQ)\n",
    "        avgWait = float( self._totalWaitTime ) / numServed\n",
    "        print( \"\" )\n",
    "        print( \"Number of passengers served = \", numServed )\n",
    "        print( \"Number of passengers remaining in line = %d\" %\n",
    "        len(self._passengerQ) )\n",
    "        print( \"The average wait time was %4.2f minutes.\" % avgWait )\n",
    "\n",
    "    # The remaining methods that have yet to be implemented.\n",
    "    # def _handleArrive( curTime ): # Handles simulation rule #1.\n",
    "    # def _handleBeginService( curTime ): # Handles simulation rule #2.\n",
    "    # def _handleEndService( curTime ): # Handles simulation rule #3."
   ]
  }
 ],
 "metadata": {
  "kernelspec": {
   "display_name": "Python 3 (ipykernel)",
   "language": "python",
   "name": "python3"
  },
  "language_info": {
   "codemirror_mode": {
    "name": "ipython",
    "version": 3
   },
   "file_extension": ".py",
   "mimetype": "text/x-python",
   "name": "python",
   "nbconvert_exporter": "python",
   "pygments_lexer": "ipython3",
   "version": "3.10.0"
  }
 },
 "nbformat": 4,
 "nbformat_minor": 5
}
