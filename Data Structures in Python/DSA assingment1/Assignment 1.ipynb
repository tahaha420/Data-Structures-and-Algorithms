{
 "cells": [
  {
   "cell_type": "markdown",
   "metadata": {},
   "source": [
    "# Task 1"
   ]
  },
  {
   "cell_type": "code",
   "execution_count": 1,
   "metadata": {},
   "outputs": [],
   "source": [
    "%run array1\n",
    "%run matrix"
   ]
  },
  {
   "cell_type": "code",
   "execution_count": 3,
   "metadata": {},
   "outputs": [],
   "source": [
    "a=Matrix(2,2)\n",
    "b=Matrix(2,2)"
   ]
  },
  {
   "cell_type": "code",
   "execution_count": null,
   "metadata": {},
   "outputs": [],
   "source": []
  },
  {
   "cell_type": "code",
   "execution_count": 125,
   "metadata": {},
   "outputs": [
    {
     "name": "stdout",
     "output_type": "stream",
     "text": [
      "\n",
      "1 2 \n",
      "3 4 \n",
      "\n",
      "5 4 \n",
      "3 2 "
     ]
    }
   ],
   "source": [
    "display(a)\n",
    "print()\n",
    "display(b)"
   ]
  },
  {
   "cell_type": "code",
   "execution_count": 126,
   "metadata": {},
   "outputs": [
    {
     "name": "stdout",
     "output_type": "stream",
     "text": [
      "\n",
      "2.0 -1.0 \n",
      "-1.5 0.5 "
     ]
    }
   ],
   "source": [
    "display(a.inverse())"
   ]
  },
  {
   "cell_type": "code",
   "execution_count": 127,
   "metadata": {},
   "outputs": [
    {
     "name": "stdout",
     "output_type": "stream",
     "text": [
      "\n",
      "1 3 \n",
      "2 4 \n",
      "\n",
      "5 3 \n",
      "4 2 "
     ]
    }
   ],
   "source": [
    "display(a.transpose())\n",
    "print()\n",
    "display(b.transpose())"
   ]
  },
  {
   "cell_type": "code",
   "execution_count": 128,
   "metadata": {},
   "outputs": [
    {
     "name": "stdout",
     "output_type": "stream",
     "text": [
      "\n",
      "6 6 \n",
      "6 6 \n",
      "\n",
      "-4 -2 \n",
      "0 2 \n",
      "\n",
      "11 8 \n",
      "27 20 "
     ]
    }
   ],
   "source": [
    "display(a+b)\n",
    "print()\n",
    "display(a-b)\n",
    "print()\n",
    "display(a*b)"
   ]
  },
  {
   "cell_type": "code",
   "execution_count": 129,
   "metadata": {},
   "outputs": [
    {
     "name": "stdout",
     "output_type": "stream",
     "text": [
      "\n",
      "2 4 \n",
      "6 8 "
     ]
    }
   ],
   "source": [
    "a.scaleBy(2)\n",
    "display(a)"
   ]
  },
  {
   "cell_type": "markdown",
   "metadata": {},
   "source": [
    "# Task 2"
   ]
  },
  {
   "cell_type": "code",
   "execution_count": 122,
   "metadata": {},
   "outputs": [],
   "source": [
    "%run life"
   ]
  },
  {
   "cell_type": "code",
   "execution_count": 121,
   "metadata": {},
   "outputs": [
    {
     "name": "stdout",
     "output_type": "stream",
     "text": [
      "Enter Grid Width: 4\n",
      "Enter Grid Height: 4\n",
      "Enter Number of Generations: 2\n",
      "\n",
      ". . . . \n",
      ". . @ . \n",
      ". @ @ @ \n",
      ". . . .  \n",
      "\n",
      ". . . . \n",
      ". @ @ @ \n",
      ". @ @ @ \n",
      ". . @ .  \n",
      "\n",
      ". . @ . \n",
      ". @ . @ \n",
      ". . . . \n",
      ". @ @ @ "
     ]
    }
   ],
   "source": [
    "intial_config = [(1, 2), (2, 1), (2, 2), (2, 3)]\n",
    "\n",
    "GRID_WIDTH = int(input('Enter Grid Width: '))\n",
    "\n",
    "GRID_HEIGHT = int(input('Enter Grid Height: '))\n",
    "\n",
    "NUM_GENS = int(input('Enter Number of Generations: '))\n",
    "\n",
    "grid = Life_Grid(GRID_WIDTH, GRID_HEIGHT)\n",
    "\n",
    "\n",
    "def game():\n",
    "    \n",
    "    grid = Life_Grid(GRID_WIDTH, GRID_HEIGHT)\n",
    "    grid.configure(INIT_CONFIG)\n",
    "\n",
    "\n",
    "    draw(grid)\n",
    "    for _ in range(NUM_GENS):\n",
    "        evolve(grid)\n",
    "        draw(grid)\n",
    "\n",
    "\n",
    "def evolve(grid):\n",
    "    livecells = []\n",
    "    for row in range(grid.rows):\n",
    "        for col in range(grid.cols):\n",
    "            neighbors = grid.numLiveNeighbors(row, col)\n",
    "\n",
    "            if (neighbors == 2 and grid.isLiveCell(row, col)) or neighbors == 3:\n",
    "                livecells.append((row, col))\n",
    "    grid.configure(livecells)\n",
    "    print(\" \")\n",
    "\n",
    "\n",
    "def draw(grid):\n",
    "    for i in range(grid.numRows()):\n",
    "        print('')\n",
    "        for j in range(grid.numCols()):\n",
    "            print(grid[i, j], end=' ')\n",
    "\n",
    "\n",
    "game()\n"
   ]
  }
 ],
 "metadata": {
  "kernelspec": {
   "display_name": "Python 3 (ipykernel)",
   "language": "python",
   "name": "python3"
  },
  "language_info": {
   "codemirror_mode": {
    "name": "ipython",
    "version": 3
   },
   "file_extension": ".py",
   "mimetype": "text/x-python",
   "name": "python",
   "nbconvert_exporter": "python",
   "pygments_lexer": "ipython3",
   "version": "3.10.0"
  }
 },
 "nbformat": 4,
 "nbformat_minor": 2
}
