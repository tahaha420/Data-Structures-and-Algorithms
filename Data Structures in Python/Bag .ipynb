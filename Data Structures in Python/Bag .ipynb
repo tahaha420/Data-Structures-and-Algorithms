{
 "cells": [
  {
   "cell_type": "markdown",
   "id": "03c6e8f1",
   "metadata": {},
   "source": [
    "# Bag"
   ]
  },
  {
   "cell_type": "code",
   "execution_count": 1,
   "id": "3b7aff2b",
   "metadata": {},
   "outputs": [],
   "source": [
    "class Bag :\n",
    "    # Constructs an empty bag.\n",
    "    def __init__( self ):\n",
    "        self._head = None\n",
    "        self._size = 0\n",
    "\n",
    "    # Returns the number of items in the bag.\n",
    "    def __len__( self ):\n",
    "        return self._size\n",
    "\n",
    "    # Determines if an item is contained in the bag.\n",
    "    def __contains__( self, target ):\n",
    "        curNode = self._head\n",
    "        while curNode is not None and curNode.item != target :\n",
    "            curNode = curNode.next\n",
    "        return curNode is not None\n",
    "\n",
    "    # Adds a new item to the bag.\n",
    "    def add( self, item ):\n",
    "        newNode = _BagListNode( item )\n",
    "        newNode.next = self._head\n",
    "        self._head = newNode\n",
    "        self._size += 1\n",
    "\n",
    "    # Removes an instance of the item from the bag.\n",
    "    def remove( self, item ):\n",
    "        predNode = None\n",
    "        curNode = self._head\n",
    "        while curNode is not None and curNode.item != item :\n",
    "            predNode = curNode\n",
    "            curNode = curNode.next\n",
    "\n",
    "    # The item has to be in the bag to remove it.\n",
    "        assert curNode is not None, \"The item must be in the bag.\"\n",
    "\n",
    "    # Unlink the node and return the item.\n",
    "        self._size -= 1\n",
    "        if curNode is head :\n",
    "            self._head = curNode.next\n",
    "        else :\n",
    "            predNode.next = curNode.next\n",
    "        return curNode.item\n",
    "\n",
    "    # Returns an iterator for traversing the list of items.\n",
    "    def __iter__( self ):\n",
    "        return _BagIterator( self._head )\n",
    "\n",
    "    # Defines a private storage class for creating list nodes.\n",
    "class _BagListNode( object ):\n",
    "    def __init__( self, item ) :\n",
    "        self.item = item\n",
    "        self.next = None"
   ]
  }
 ],
 "metadata": {
  "kernelspec": {
   "display_name": "Python 3 (ipykernel)",
   "language": "python",
   "name": "python3"
  },
  "language_info": {
   "codemirror_mode": {
    "name": "ipython",
    "version": 3
   },
   "file_extension": ".py",
   "mimetype": "text/x-python",
   "name": "python",
   "nbconvert_exporter": "python",
   "pygments_lexer": "ipython3",
   "version": "3.10.0"
  }
 },
 "nbformat": 4,
 "nbformat_minor": 5
}
